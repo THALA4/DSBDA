{
  "nbformat": 4,
  "nbformat_minor": 0,
  "metadata": {
    "colab": {
      "provenance": []
    },
    "kernelspec": {
      "name": "python3",
      "display_name": "Python 3"
    },
    "language_info": {
      "name": "python"
    }
  },
  "cells": [
    {
      "cell_type": "code",
      "source": [
        "import pandas as pd\n",
        "import matplotlib.pyplot as plt\n",
        "import seaborn as sns\n",
        "\n",
        "df = pd.read_csv('forestfire.csv')\n",
        "df.head()"
      ],
      "metadata": {
        "id": "9F-XfV-quPnB"
      },
      "execution_count": null,
      "outputs": []
    },
    {
      "cell_type": "markdown",
      "source": [
        "**MATPLOTLIB**"
      ],
      "metadata": {
        "id": "NoZcbaCpug9Q"
      }
    },
    {
      "cell_type": "code",
      "source": [
        "# Line Graph\n",
        "area_burned_per_month = df.groupby('month')['area'].mean()\n",
        "plt.plot(area_burned_per_month.index, area_burned_per_month.values)\n",
        "plt.xlabel('Month')\n",
        "plt.ylabel('Average Area Burned')\n",
        "plt.show()"
      ],
      "metadata": {
        "id": "DfogKRfIvQyH"
      },
      "execution_count": null,
      "outputs": []
    },
    {
      "cell_type": "code",
      "source": [
        "# Histogram\n",
        "plt.hist(df['area'], bins=30)\n",
        "plt.xlabel('Area')\n",
        "plt.ylabel('Frequency')\n",
        "plt.show()\n",
        "\n",
        "#| `bins` value      | Meaning                     |\n",
        "#| ----------------- | --------------------------- |\n",
        "#| Small (e.g., 10)  | Broad view of distribution  |\n",
        "#| Large (e.g., 100) | Fine detail, possible noise |"
      ],
      "metadata": {
        "id": "SdOnid_8vaQi"
      },
      "execution_count": null,
      "outputs": []
    },
    {
      "cell_type": "code",
      "source": [
        "# Bar Chart\n",
        "fires_per_month = df['month'].value_counts()\n",
        "plt.bar(fires_per_month.index, fires_per_month.values, color='red')\n",
        "plt.xlabel('Month')\n",
        "plt.ylabel('Area Burned')\n",
        "plt.show()"
      ],
      "metadata": {
        "id": "yWrjwECHvvCR"
      },
      "execution_count": null,
      "outputs": []
    },
    {
      "cell_type": "code",
      "source": [
        "# BoxPlot\n",
        "df.boxplot(column='temp', by='month')\n",
        "plt.xlabel('Month')\n",
        "plt.ylabel('Area Burned')\n",
        "plt.show()"
      ],
      "metadata": {
        "id": "yW1LVsB9xHSZ"
      },
      "execution_count": null,
      "outputs": []
    },
    {
      "cell_type": "markdown",
      "source": [
        "**SEABORN**"
      ],
      "metadata": {
        "id": "rq8dRkq90bpj"
      }
    },
    {
      "cell_type": "code",
      "source": [
        "# Month-wise fire count\n",
        "sns.countplot(x='month', data=df)\n",
        "plt.show()"
      ],
      "metadata": {
        "id": "Q3cAaeC30e_Y"
      },
      "execution_count": null,
      "outputs": []
    },
    {
      "cell_type": "code",
      "source": [
        "# Temperature vs Area burned (scatter plot)\n",
        "sns.scatterplot(x='area', y='temp', data=df)\n",
        "plt.show()"
      ],
      "metadata": {
        "id": "cgYVgHAb0mWn"
      },
      "execution_count": null,
      "outputs": []
    },
    {
      "cell_type": "code",
      "source": [
        "# Correlation heatmap\n",
        "df1 = df.drop(['month', 'day'], axis = 1)\n",
        "plt.figure(figsize=(10,7))\n",
        "sns.heatmap(df1.corr(), annot=True)\n",
        "plt.show()"
      ],
      "metadata": {
        "id": "NXZNck3G2Cy3"
      },
      "execution_count": null,
      "outputs": []
    },
    {
      "cell_type": "code",
      "source": [
        "sns.distplot(df['area'])\n",
        "plt.show()"
      ],
      "metadata": {
        "id": "wEbFb3x-2WTL"
      },
      "execution_count": null,
      "outputs": []
    }
  ]
}